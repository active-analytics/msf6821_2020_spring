{
 "cells": [
  {
   "cell_type": "markdown",
   "metadata": {},
   "source": [
    "# 01 - Plotting Annaly Price Data"
   ]
  },
  {
   "cell_type": "markdown",
   "metadata": {},
   "source": [
    "The purpose of this notebook is to grab price data from Yahoo for Annaly Capital Management and visualize the time series."
   ]
  },
  {
   "cell_type": "markdown",
   "metadata": {},
   "source": [
    "### Loading Packages"
   ]
  },
  {
   "cell_type": "markdown",
   "metadata": {},
   "source": [
    "Let's begin by loading the packages that we will need."
   ]
  },
  {
   "cell_type": "code",
   "execution_count": 1,
   "metadata": {},
   "outputs": [],
   "source": [
    "import pandas as pd\n",
    "import pandas_datareader as pdr\n",
    "import matplotlib.pyplot as plt\n",
    "%matplotlib inline"
   ]
  },
  {
   "cell_type": "markdown",
   "metadata": {},
   "source": [
    "### Annaly Capital Management - Grabbing Data from Yahoo Finance"
   ]
  },
  {
   "cell_type": "markdown",
   "metadata": {},
   "source": [
    "Annaly Capital Management is one of the largest mortgage REITs.  Its ticker is `NLY`.\n",
    "\n",
    "The function for retrieving data from Yahoo is `pdr.get_data_yahoo()`.\n",
    "\n",
    "The following code retrieves `NLY` data from 2014-2019."
   ]
  },
  {
   "cell_type": "code",
   "execution_count": 2,
   "metadata": {},
   "outputs": [
    {
     "data": {
      "text/html": [
       "<div>\n",
       "<style scoped>\n",
       "    .dataframe tbody tr th:only-of-type {\n",
       "        vertical-align: middle;\n",
       "    }\n",
       "\n",
       "    .dataframe tbody tr th {\n",
       "        vertical-align: top;\n",
       "    }\n",
       "\n",
       "    .dataframe thead th {\n",
       "        text-align: right;\n",
       "    }\n",
       "</style>\n",
       "<table border=\"1\" class=\"dataframe\">\n",
       "  <thead>\n",
       "    <tr style=\"text-align: right;\">\n",
       "      <th></th>\n",
       "      <th>High</th>\n",
       "      <th>Low</th>\n",
       "      <th>Open</th>\n",
       "      <th>Close</th>\n",
       "      <th>Volume</th>\n",
       "      <th>Adj Close</th>\n",
       "    </tr>\n",
       "    <tr>\n",
       "      <th>Date</th>\n",
       "      <th></th>\n",
       "      <th></th>\n",
       "      <th></th>\n",
       "      <th></th>\n",
       "      <th></th>\n",
       "      <th></th>\n",
       "    </tr>\n",
       "  </thead>\n",
       "  <tbody>\n",
       "    <tr>\n",
       "      <th>2014-01-02</th>\n",
       "      <td>10.14</td>\n",
       "      <td>9.97</td>\n",
       "      <td>9.97</td>\n",
       "      <td>10.01</td>\n",
       "      <td>10863700.0</td>\n",
       "      <td>5.124486</td>\n",
       "    </tr>\n",
       "    <tr>\n",
       "      <th>2014-01-03</th>\n",
       "      <td>10.10</td>\n",
       "      <td>9.92</td>\n",
       "      <td>10.05</td>\n",
       "      <td>10.00</td>\n",
       "      <td>9061700.0</td>\n",
       "      <td>5.119367</td>\n",
       "    </tr>\n",
       "    <tr>\n",
       "      <th>2014-01-06</th>\n",
       "      <td>10.13</td>\n",
       "      <td>10.03</td>\n",
       "      <td>10.03</td>\n",
       "      <td>10.11</td>\n",
       "      <td>9182200.0</td>\n",
       "      <td>5.175680</td>\n",
       "    </tr>\n",
       "    <tr>\n",
       "      <th>2014-01-07</th>\n",
       "      <td>10.28</td>\n",
       "      <td>10.09</td>\n",
       "      <td>10.10</td>\n",
       "      <td>10.25</td>\n",
       "      <td>15784100.0</td>\n",
       "      <td>5.247352</td>\n",
       "    </tr>\n",
       "    <tr>\n",
       "      <th>2014-01-08</th>\n",
       "      <td>10.23</td>\n",
       "      <td>10.06</td>\n",
       "      <td>10.21</td>\n",
       "      <td>10.15</td>\n",
       "      <td>11104000.0</td>\n",
       "      <td>5.196156</td>\n",
       "    </tr>\n",
       "  </tbody>\n",
       "</table>\n",
       "</div>"
      ],
      "text/plain": [
       "             High    Low   Open  Close      Volume  Adj Close\n",
       "Date                                                         \n",
       "2014-01-02  10.14   9.97   9.97  10.01  10863700.0   5.124486\n",
       "2014-01-03  10.10   9.92  10.05  10.00   9061700.0   5.119367\n",
       "2014-01-06  10.13  10.03  10.03  10.11   9182200.0   5.175680\n",
       "2014-01-07  10.28  10.09  10.10  10.25  15784100.0   5.247352\n",
       "2014-01-08  10.23  10.06  10.21  10.15  11104000.0   5.196156"
      ]
     },
     "execution_count": 2,
     "metadata": {},
     "output_type": "execute_result"
    }
   ],
   "source": [
    "df_nly = pdr.get_data_yahoo('NLY', start = '2014-01-01', end = '2020-01-01')\n",
    "df_nly.head()"
   ]
  },
  {
   "cell_type": "markdown",
   "metadata": {},
   "source": [
    "By default, `pandas_datareader` sets the `Date` column as the index, which I don't like, so I'll use the `.reset_index()` method to take care of this."
   ]
  },
  {
   "cell_type": "code",
   "execution_count": 3,
   "metadata": {},
   "outputs": [
    {
     "data": {
      "text/html": [
       "<div>\n",
       "<style scoped>\n",
       "    .dataframe tbody tr th:only-of-type {\n",
       "        vertical-align: middle;\n",
       "    }\n",
       "\n",
       "    .dataframe tbody tr th {\n",
       "        vertical-align: top;\n",
       "    }\n",
       "\n",
       "    .dataframe thead th {\n",
       "        text-align: right;\n",
       "    }\n",
       "</style>\n",
       "<table border=\"1\" class=\"dataframe\">\n",
       "  <thead>\n",
       "    <tr style=\"text-align: right;\">\n",
       "      <th></th>\n",
       "      <th>Date</th>\n",
       "      <th>High</th>\n",
       "      <th>Low</th>\n",
       "      <th>Open</th>\n",
       "      <th>Close</th>\n",
       "      <th>Volume</th>\n",
       "      <th>Adj Close</th>\n",
       "    </tr>\n",
       "  </thead>\n",
       "  <tbody>\n",
       "    <tr>\n",
       "      <th>0</th>\n",
       "      <td>2014-01-02</td>\n",
       "      <td>10.14</td>\n",
       "      <td>9.97</td>\n",
       "      <td>9.97</td>\n",
       "      <td>10.01</td>\n",
       "      <td>10863700.0</td>\n",
       "      <td>5.124486</td>\n",
       "    </tr>\n",
       "    <tr>\n",
       "      <th>1</th>\n",
       "      <td>2014-01-03</td>\n",
       "      <td>10.10</td>\n",
       "      <td>9.92</td>\n",
       "      <td>10.05</td>\n",
       "      <td>10.00</td>\n",
       "      <td>9061700.0</td>\n",
       "      <td>5.119367</td>\n",
       "    </tr>\n",
       "    <tr>\n",
       "      <th>2</th>\n",
       "      <td>2014-01-06</td>\n",
       "      <td>10.13</td>\n",
       "      <td>10.03</td>\n",
       "      <td>10.03</td>\n",
       "      <td>10.11</td>\n",
       "      <td>9182200.0</td>\n",
       "      <td>5.175680</td>\n",
       "    </tr>\n",
       "    <tr>\n",
       "      <th>3</th>\n",
       "      <td>2014-01-07</td>\n",
       "      <td>10.28</td>\n",
       "      <td>10.09</td>\n",
       "      <td>10.10</td>\n",
       "      <td>10.25</td>\n",
       "      <td>15784100.0</td>\n",
       "      <td>5.247352</td>\n",
       "    </tr>\n",
       "    <tr>\n",
       "      <th>4</th>\n",
       "      <td>2014-01-08</td>\n",
       "      <td>10.23</td>\n",
       "      <td>10.06</td>\n",
       "      <td>10.21</td>\n",
       "      <td>10.15</td>\n",
       "      <td>11104000.0</td>\n",
       "      <td>5.196156</td>\n",
       "    </tr>\n",
       "  </tbody>\n",
       "</table>\n",
       "</div>"
      ],
      "text/plain": [
       "        Date   High    Low   Open  Close      Volume  Adj Close\n",
       "0 2014-01-02  10.14   9.97   9.97  10.01  10863700.0   5.124486\n",
       "1 2014-01-03  10.10   9.92  10.05  10.00   9061700.0   5.119367\n",
       "2 2014-01-06  10.13  10.03  10.03  10.11   9182200.0   5.175680\n",
       "3 2014-01-07  10.28  10.09  10.10  10.25  15784100.0   5.247352\n",
       "4 2014-01-08  10.23  10.06  10.21  10.15  11104000.0   5.196156"
      ]
     },
     "execution_count": 3,
     "metadata": {},
     "output_type": "execute_result"
    }
   ],
   "source": [
    "df_nly.reset_index(inplace = True)\n",
    "df_nly.head()"
   ]
  },
  {
   "cell_type": "markdown",
   "metadata": {},
   "source": [
    "I prefer that my column names have all lower case letters, and that there are no spaces in the column names, that's what this code does."
   ]
  },
  {
   "cell_type": "code",
   "execution_count": 4,
   "metadata": {},
   "outputs": [
    {
     "data": {
      "text/html": [
       "<div>\n",
       "<style scoped>\n",
       "    .dataframe tbody tr th:only-of-type {\n",
       "        vertical-align: middle;\n",
       "    }\n",
       "\n",
       "    .dataframe tbody tr th {\n",
       "        vertical-align: top;\n",
       "    }\n",
       "\n",
       "    .dataframe thead th {\n",
       "        text-align: right;\n",
       "    }\n",
       "</style>\n",
       "<table border=\"1\" class=\"dataframe\">\n",
       "  <thead>\n",
       "    <tr style=\"text-align: right;\">\n",
       "      <th></th>\n",
       "      <th>date</th>\n",
       "      <th>high</th>\n",
       "      <th>low</th>\n",
       "      <th>open</th>\n",
       "      <th>close</th>\n",
       "      <th>volume</th>\n",
       "      <th>adj_close</th>\n",
       "    </tr>\n",
       "  </thead>\n",
       "  <tbody>\n",
       "    <tr>\n",
       "      <th>0</th>\n",
       "      <td>2014-01-02</td>\n",
       "      <td>10.14</td>\n",
       "      <td>9.97</td>\n",
       "      <td>9.97</td>\n",
       "      <td>10.01</td>\n",
       "      <td>10863700.0</td>\n",
       "      <td>5.124486</td>\n",
       "    </tr>\n",
       "    <tr>\n",
       "      <th>1</th>\n",
       "      <td>2014-01-03</td>\n",
       "      <td>10.10</td>\n",
       "      <td>9.92</td>\n",
       "      <td>10.05</td>\n",
       "      <td>10.00</td>\n",
       "      <td>9061700.0</td>\n",
       "      <td>5.119367</td>\n",
       "    </tr>\n",
       "    <tr>\n",
       "      <th>2</th>\n",
       "      <td>2014-01-06</td>\n",
       "      <td>10.13</td>\n",
       "      <td>10.03</td>\n",
       "      <td>10.03</td>\n",
       "      <td>10.11</td>\n",
       "      <td>9182200.0</td>\n",
       "      <td>5.175680</td>\n",
       "    </tr>\n",
       "    <tr>\n",
       "      <th>3</th>\n",
       "      <td>2014-01-07</td>\n",
       "      <td>10.28</td>\n",
       "      <td>10.09</td>\n",
       "      <td>10.10</td>\n",
       "      <td>10.25</td>\n",
       "      <td>15784100.0</td>\n",
       "      <td>5.247352</td>\n",
       "    </tr>\n",
       "    <tr>\n",
       "      <th>4</th>\n",
       "      <td>2014-01-08</td>\n",
       "      <td>10.23</td>\n",
       "      <td>10.06</td>\n",
       "      <td>10.21</td>\n",
       "      <td>10.15</td>\n",
       "      <td>11104000.0</td>\n",
       "      <td>5.196156</td>\n",
       "    </tr>\n",
       "  </tbody>\n",
       "</table>\n",
       "</div>"
      ],
      "text/plain": [
       "        date   high    low   open  close      volume  adj_close\n",
       "0 2014-01-02  10.14   9.97   9.97  10.01  10863700.0   5.124486\n",
       "1 2014-01-03  10.10   9.92  10.05  10.00   9061700.0   5.119367\n",
       "2 2014-01-06  10.13  10.03  10.03  10.11   9182200.0   5.175680\n",
       "3 2014-01-07  10.28  10.09  10.10  10.25  15784100.0   5.247352\n",
       "4 2014-01-08  10.23  10.06  10.21  10.15  11104000.0   5.196156"
      ]
     },
     "execution_count": 4,
     "metadata": {},
     "output_type": "execute_result"
    }
   ],
   "source": [
    "df_nly.columns = \\\n",
    "    (\n",
    "    df_nly.columns\n",
    "        .str.replace(' ', '_')\n",
    "        .str.lower()\n",
    "    )\n",
    "df_nly.head()"
   ]
  },
  {
   "cell_type": "markdown",
   "metadata": {},
   "source": [
    "## Plotting Adjusted Close"
   ]
  },
  {
   "cell_type": "markdown",
   "metadata": {},
   "source": [
    "Now that we have the data in at `DataFrame` we can use some built-in `.plot()` function to visualize the `adj_close` price. "
   ]
  },
  {
   "cell_type": "code",
   "execution_count": 5,
   "metadata": {},
   "outputs": [
    {
     "data": {
      "image/png": "[encoded data removed]",
      "text/plain": [
       "<Figure size 432x288 with 1 Axes>"
      ]
     },
     "metadata": {
      "needs_background": "light"
     },
     "output_type": "display_data"
    }
   ],
   "source": [
    "df_nly.plot(x='date', y='adj_close');"
   ]
  },
  {
   "cell_type": "markdown",
   "metadata": {},
   "source": [
    "As you can see, the graph doesn't look that great with the default settings.  Let's change these settings a bit to make the plot look better."
   ]
  },
  {
   "cell_type": "code",
   "execution_count": 6,
   "metadata": {},
   "outputs": [
    {
     "data": {
      "image/png": "[encoded data removed]",
      "text/plain": [
       "<Figure size 720x360 with 1 Axes>"
      ]
     },
     "metadata": {
      "needs_background": "light"
     },
     "output_type": "display_data"
    }
   ],
   "source": [
    "ax = df_nly.\\\n",
    "        plot(\n",
    "            x = 'date',\n",
    "            y = 'adj_close', \n",
    "            title = 'Annaly Capital: 2014-2019',\n",
    "            grid = True,\n",
    "            figsize = (10, 5),\n",
    "            style = 'k',\n",
    "            alpha = 0.75,\n",
    "        );\n",
    "ax.set_xlabel('Trade Date');\n",
    "ax.set_ylabel('Adjusted Price');"
   ]
  },
  {
   "cell_type": "markdown",
   "metadata": {},
   "source": [
    "### Further Reading\n",
    "\n",
    "Check out my Tutorials 12-14 for more about data visualization."
   ]
  }
 ],
 "metadata": {
  "kernelspec": {
   "display_name": "Python 3",
   "language": "python",
   "name": "python3"
  },
  "language_info": {
   "codemirror_mode": {
    "name": "ipython",
    "version": 3
   },
   "file_extension": ".py",
   "mimetype": "text/x-python",
   "name": "python",
   "nbconvert_exporter": "python",
   "pygments_lexer": "ipython3",
   "version": "3.7.3"
  }
 },
 "nbformat": 4,
 "nbformat_minor": 4
}
